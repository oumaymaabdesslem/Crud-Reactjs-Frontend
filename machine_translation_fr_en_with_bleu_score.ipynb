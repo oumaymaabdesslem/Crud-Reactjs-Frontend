{
  "nbformat": 4,
  "nbformat_minor": 5,
  "metadata": {
    "accelerator": "GPU",
    "colab": {
      "name": "machine-translation-fr-en-with-bleu-score.ipynb",
      "provenance": [],
      "include_colab_link": true
    },
    "kernelspec": {
      "display_name": "Python 3",
      "language": "python",
      "name": "python3"
    },
    "language_info": {
      "codemirror_mode": {
        "name": "ipython",
        "version": 3
      },
      "file_extension": ".py",
      "mimetype": "text/x-python",
      "name": "python",
      "nbconvert_exporter": "python",
      "pygments_lexer": "ipython3",
      "version": "3.7.9"
    },
    "papermill": {
      "default_parameters": {},
      "duration": 1117.227259,
      "end_time": "2021-08-11T06:40:14.964021",
      "environment_variables": {},
      "exception": null,
      "input_path": "__notebook__.ipynb",
      "output_path": "__notebook__.ipynb",
      "parameters": {},
      "start_time": "2021-08-11T06:21:37.736762",
      "version": "2.3.2"
    }
  },
  "cells": [
    {
      "cell_type": "markdown",
      "metadata": {
        "id": "view-in-github",
        "colab_type": "text"
      },
      "source": [
        "<a href=\"https://colab.research.google.com/github/oumaymaabdesslem/Crud-Reactjs-Frontend/blob/master/machine_translation_fr_en_with_bleu_score.ipynb\" target=\"_parent\"><img src=\"https://colab.research.google.com/assets/colab-badge.svg\" alt=\"Open In Colab\"/></a>"
      ]
    },
    {
      "cell_type": "markdown",
      "metadata": {
        "id": "iraqi-dietary"
      },
      "source": [
        "# Train a Machine Translation model FR->EN with BLEU Score\n",
        "### *Use a list a translated sentences in French and English to train the model*\n",
        "### \\#Keras \\#Deep Learning \\#NLTK \\#BLEU Score\n",
        "\n",
        "\n"
      ],
      "id": "iraqi-dietary"
    },
    {
      "cell_type": "markdown",
      "metadata": {
        "id": "convertible-northern"
      },
      "source": [
        "![translation](https://i.imgur.com/oRErxJM.png)\n",
        " \n",
        " \n",
        "# Table of contents\n",
        "\n",
        "[<h3>1. Data Preprocessing</h3>](#1)\n",
        "\n",
        "[<h3>2. Create and train the model</h3>](#2)\n",
        "\n",
        "[<h3>3. Result on the test set</h3>](#3)\n",
        "\n",
        "[<h3>4. Prediction evaluation with BLEU</h3>](#4)"
      ],
      "id": "convertible-northern"
    },
    {
      "cell_type": "code",
      "metadata": {
        "colab": {
          "base_uri": "https://localhost:8080/"
        },
        "id": "DvlPhEMzXAsT",
        "outputId": "446c5083-4c77-4dc0-9cef-b210f3cf3984"
      },
      "source": [
        "from google.colab import drive\n",
        "drive.mount('/content/drive')"
      ],
      "id": "DvlPhEMzXAsT",
      "execution_count": null,
      "outputs": [
        {
          "output_type": "stream",
          "text": [
            "Drive already mounted at /content/drive; to attempt to forcibly remount, call drive.mount(\"/content/drive\", force_remount=True).\n"
          ],
          "name": "stdout"
        }
      ]
    },
    {
      "cell_type": "markdown",
      "metadata": {
        "id": "dried-olive"
      },
      "source": [
        "## 1. Data Preprocessing<a class=\"anchor\" id=\"1\"></a><a class=\"anchor\" id=\"1\"></a>"
      ],
      "id": "dried-olive"
    },
    {
      "cell_type": "code",
      "metadata": {
        "id": "successful-richards"
      },
      "source": [
        "import warnings\n",
        "warnings.filterwarnings('ignore')\n",
        "import string\n",
        "import re\n",
        "from unicodedata import normalize\n",
        "import numpy as np\n",
        "from keras.preprocessing.text import Tokenizer\n",
        "from keras.preprocessing.sequence import pad_sequences\n",
        "from tensorflow.keras.utils import to_categorical\n",
        "from keras.models import Sequential,load_model\n",
        "from keras.layers import LSTM,Dense,Embedding,RepeatVector,TimeDistributed\n",
        "from keras.callbacks import EarlyStopping\n",
        "from keras.preprocessing.text import Tokenizer\n",
        "from keras.preprocessing.sequence import pad_sequences\n",
        "from nltk.translate.bleu_score import corpus_bleu\n",
        "import pandas as pd\n",
        "from string import punctuation\n",
        "import matplotlib.pyplot as plt\n",
        "from IPython.display import Markdown, display\n",
        "\n",
        "def printmd(string):\n",
        "    # Print with Markdowns    \n",
        "    display(Markdown(string))"
      ],
      "id": "successful-richards",
      "execution_count": null,
      "outputs": []
    },
    {
      "cell_type": "code",
      "metadata": {
        "colab": {
          "base_uri": "https://localhost:8080/",
          "height": 151
        },
        "id": "fiscal-importance",
        "outputId": "b2c35e82-2815-4594-c9ce-62bccecc7cea"
      },
      "source": [
        "# How many sentences will be used\n",
        "# Limit the sentences to 10.000 on google colab to avoid exceding the\n",
        "# available RAM space\n",
        "# Build a generator to avoid this issue\n",
        "\n",
        "total_sentences = 10000\n",
        "\n",
        "# Load the dataset\n",
        "dataset = pd.read_csv(\"/content/drive/MyDrive/Colab Notebooks/dataset/eng_-french.csv\", nrows = total_sentences)\n",
        "\n",
        "# What proportion of the sentences will be used for the test set\n",
        "test_proportion = 0.1\n",
        "train_test_threshold = int( (1-test_proportion) * total_sentences)\n",
        "\n",
        "printmd(f'## {total_sentences} \"parallel sentences\" will be loaded (original sentence + its translation)')\n",
        "printmd(f'## {train_test_threshold} \"parallel sentences\" will be used to train the model')\n",
        "printmd(f'## {total_sentences-train_test_threshold} \"parallel sentences\" will be used to test the model')"
      ],
      "id": "fiscal-importance",
      "execution_count": null,
      "outputs": [
        {
          "output_type": "display_data",
          "data": {
            "text/markdown": "## 10000 \"parallel sentences\" will be loaded (original sentence + its translation)",
            "text/plain": [
              "<IPython.core.display.Markdown object>"
            ]
          },
          "metadata": {}
        },
        {
          "output_type": "display_data",
          "data": {
            "text/markdown": "## 9000 \"parallel sentences\" will be used to train the model",
            "text/plain": [
              "<IPython.core.display.Markdown object>"
            ]
          },
          "metadata": {}
        },
        {
          "output_type": "display_data",
          "data": {
            "text/markdown": "## 1000 \"parallel sentences\" will be used to test the model",
            "text/plain": [
              "<IPython.core.display.Markdown object>"
            ]
          },
          "metadata": {}
        }
      ]
    },
    {
      "cell_type": "code",
      "metadata": {
        "colab": {
          "base_uri": "https://localhost:8080/",
          "height": 359
        },
        "id": "satisfied-williams",
        "outputId": "184be506-7b62-482f-8395-4cf6e31eb73d"
      },
      "source": [
        "# Shuffle the dataset\n",
        "dataset = dataset.sample(frac=1, random_state=0)\n",
        "dataset.iloc[1000:1010]"
      ],
      "id": "satisfied-williams",
      "execution_count": null,
      "outputs": [
        {
          "output_type": "execute_result",
          "data": {
            "text/html": [
              "<div>\n",
              "<style scoped>\n",
              "    .dataframe tbody tr th:only-of-type {\n",
              "        vertical-align: middle;\n",
              "    }\n",
              "\n",
              "    .dataframe tbody tr th {\n",
              "        vertical-align: top;\n",
              "    }\n",
              "\n",
              "    .dataframe thead th {\n",
              "        text-align: right;\n",
              "    }\n",
              "</style>\n",
              "<table border=\"1\" class=\"dataframe\">\n",
              "  <thead>\n",
              "    <tr style=\"text-align: right;\">\n",
              "      <th></th>\n",
              "      <th>English words/sentences</th>\n",
              "      <th>French words/sentences</th>\n",
              "    </tr>\n",
              "  </thead>\n",
              "  <tbody>\n",
              "    <tr>\n",
              "      <th>1554</th>\n",
              "      <td>Let me die.</td>\n",
              "      <td>Laisse-moi mourir.</td>\n",
              "    </tr>\n",
              "    <tr>\n",
              "      <th>2087</th>\n",
              "      <td>He's a slob.</td>\n",
              "      <td>C'est un flemmard.</td>\n",
              "    </tr>\n",
              "    <tr>\n",
              "      <th>5470</th>\n",
              "      <td>I have to try.</td>\n",
              "      <td>Il faut que j'essaie.</td>\n",
              "    </tr>\n",
              "    <tr>\n",
              "      <th>2363</th>\n",
              "      <td>I was naive.</td>\n",
              "      <td>Je fus crédule.</td>\n",
              "    </tr>\n",
              "    <tr>\n",
              "      <th>7570</th>\n",
              "      <td>He is bankrupt.</td>\n",
              "      <td>Il est en faillite.</td>\n",
              "    </tr>\n",
              "    <tr>\n",
              "      <th>6427</th>\n",
              "      <td>That's a fact.</td>\n",
              "      <td>C'est un fait.</td>\n",
              "    </tr>\n",
              "    <tr>\n",
              "      <th>1651</th>\n",
              "      <td>Talk to me!</td>\n",
              "      <td>Parlez-moi !</td>\n",
              "    </tr>\n",
              "    <tr>\n",
              "      <th>4164</th>\n",
              "      <td>Keep talking.</td>\n",
              "      <td>Continuez de parler.</td>\n",
              "    </tr>\n",
              "    <tr>\n",
              "      <th>1231</th>\n",
              "      <td>I broke it.</td>\n",
              "      <td>Je l'ai cassée.</td>\n",
              "    </tr>\n",
              "    <tr>\n",
              "      <th>9232</th>\n",
              "      <td>Tom is a judge.</td>\n",
              "      <td>Tom est juge.</td>\n",
              "    </tr>\n",
              "  </tbody>\n",
              "</table>\n",
              "</div>"
            ],
            "text/plain": [
              "     English words/sentences French words/sentences\n",
              "1554             Let me die.     Laisse-moi mourir.\n",
              "2087            He's a slob.     C'est un flemmard.\n",
              "5470          I have to try.  Il faut que j'essaie.\n",
              "2363            I was naive.        Je fus crédule.\n",
              "7570         He is bankrupt.    Il est en faillite.\n",
              "6427          That's a fact.         C'est un fait.\n",
              "1651             Talk to me!           Parlez-moi !\n",
              "4164           Keep talking.   Continuez de parler.\n",
              "1231             I broke it.        Je l'ai cassée.\n",
              "9232         Tom is a judge.          Tom est juge."
            ]
          },
          "metadata": {},
          "execution_count": 10
        }
      ]
    },
    {
      "cell_type": "code",
      "metadata": {
        "id": "expanded-encyclopedia"
      },
      "source": [
        "def clean(string):\n",
        "    # Clean the string\n",
        "    string = string.replace(\"\\u202f\",\" \") # Replace no-break space with space\n",
        "    string = string.lower()\n",
        "    \n",
        "    # Delete the punctuation and the numbers\n",
        "    for p in punctuation + \"«»\" + \"0123456789\":\n",
        "        string = string.replace(p,\" \")\n",
        "        \n",
        "    string = re.sub('\\s+',' ', string)\n",
        "    string = string.strip()\n",
        "           \n",
        "    return string\n",
        "\n",
        "# Clean the sentences\n",
        "dataset[\"English words/sentences\"] = dataset[\"English words/sentences\"].apply(lambda x: clean(x))\n",
        "dataset[\"French words/sentences\"] = dataset[\"French words/sentences\"].apply(lambda x: clean(x))\n",
        "\n",
        "# Select one part of the dataset\n",
        "dataset = dataset.values\n",
        "dataset = dataset[:total_sentences]\n",
        "\n",
        "# split into train/test\n",
        "train, test = dataset[:train_test_threshold], dataset[train_test_threshold:]\n",
        "\n",
        "# Define the name of the source and of the target\n",
        "# This will be used in the outputs of this notebook\n",
        "source_str, target_str = \"French\", \"English\"\n",
        "\n",
        "# The index in the numpy array of the source and of the target\n",
        "idx_src, idx_tar = 1, 0"
      ],
      "id": "expanded-encyclopedia",
      "execution_count": null,
      "outputs": []
    },
    {
      "cell_type": "code",
      "metadata": {
        "colab": {
          "base_uri": "https://localhost:8080/",
          "height": 359
        },
        "id": "documented-decrease",
        "outputId": "4e9e843e-1ef3-4177-cc5f-f8c1177ca889"
      },
      "source": [
        "# Display the result after cleaning\n",
        "pd.DataFrame(dataset[1000:1010])"
      ],
      "id": "documented-decrease",
      "execution_count": null,
      "outputs": [
        {
          "output_type": "execute_result",
          "data": {
            "text/html": [
              "<div>\n",
              "<style scoped>\n",
              "    .dataframe tbody tr th:only-of-type {\n",
              "        vertical-align: middle;\n",
              "    }\n",
              "\n",
              "    .dataframe tbody tr th {\n",
              "        vertical-align: top;\n",
              "    }\n",
              "\n",
              "    .dataframe thead th {\n",
              "        text-align: right;\n",
              "    }\n",
              "</style>\n",
              "<table border=\"1\" class=\"dataframe\">\n",
              "  <thead>\n",
              "    <tr style=\"text-align: right;\">\n",
              "      <th></th>\n",
              "      <th>0</th>\n",
              "      <th>1</th>\n",
              "    </tr>\n",
              "  </thead>\n",
              "  <tbody>\n",
              "    <tr>\n",
              "      <th>0</th>\n",
              "      <td>let me die</td>\n",
              "      <td>laisse moi mourir</td>\n",
              "    </tr>\n",
              "    <tr>\n",
              "      <th>1</th>\n",
              "      <td>he s a slob</td>\n",
              "      <td>c est un flemmard</td>\n",
              "    </tr>\n",
              "    <tr>\n",
              "      <th>2</th>\n",
              "      <td>i have to try</td>\n",
              "      <td>il faut que j essaie</td>\n",
              "    </tr>\n",
              "    <tr>\n",
              "      <th>3</th>\n",
              "      <td>i was naive</td>\n",
              "      <td>je fus crédule</td>\n",
              "    </tr>\n",
              "    <tr>\n",
              "      <th>4</th>\n",
              "      <td>he is bankrupt</td>\n",
              "      <td>il est en faillite</td>\n",
              "    </tr>\n",
              "    <tr>\n",
              "      <th>5</th>\n",
              "      <td>that s a fact</td>\n",
              "      <td>c est un fait</td>\n",
              "    </tr>\n",
              "    <tr>\n",
              "      <th>6</th>\n",
              "      <td>talk to me</td>\n",
              "      <td>parlez moi</td>\n",
              "    </tr>\n",
              "    <tr>\n",
              "      <th>7</th>\n",
              "      <td>keep talking</td>\n",
              "      <td>continuez de parler</td>\n",
              "    </tr>\n",
              "    <tr>\n",
              "      <th>8</th>\n",
              "      <td>i broke it</td>\n",
              "      <td>je l ai cassée</td>\n",
              "    </tr>\n",
              "    <tr>\n",
              "      <th>9</th>\n",
              "      <td>tom is a judge</td>\n",
              "      <td>tom est juge</td>\n",
              "    </tr>\n",
              "  </tbody>\n",
              "</table>\n",
              "</div>"
            ],
            "text/plain": [
              "                0                     1\n",
              "0      let me die     laisse moi mourir\n",
              "1     he s a slob     c est un flemmard\n",
              "2   i have to try  il faut que j essaie\n",
              "3     i was naive        je fus crédule\n",
              "4  he is bankrupt    il est en faillite\n",
              "5   that s a fact         c est un fait\n",
              "6      talk to me            parlez moi\n",
              "7    keep talking   continuez de parler\n",
              "8      i broke it        je l ai cassée\n",
              "9  tom is a judge          tom est juge"
            ]
          },
          "metadata": {},
          "execution_count": 12
        }
      ]
    },
    {
      "cell_type": "code",
      "metadata": {
        "colab": {
          "base_uri": "https://localhost:8080/",
          "height": 115
        },
        "id": "received-trout",
        "outputId": "e4ff14b9-906d-4ca4-e3d4-29ed03be295d"
      },
      "source": [
        "def create_tokenizer(lines):\n",
        "    # fit a tokenizer\n",
        "    tokenizer = Tokenizer()\n",
        "    tokenizer.fit_on_texts(lines)\n",
        "    return tokenizer\n",
        " \n",
        "def max_len(lines):\n",
        "    # max sentence length\n",
        "    return max(len(line.split()) for line in lines)\n",
        "\n",
        "def encode_sequences(tokenizer, length, lines):\n",
        "    # encode and pad sequences\n",
        "    X = tokenizer.texts_to_sequences(lines) # integer encode sequences\n",
        "    X = pad_sequences(X, maxlen=length, padding='post') # pad sequences with 0 values\n",
        "    return X\n",
        " \n",
        "def encode_output(sequences, vocab_size):\n",
        "    # one hot encode target sequence\n",
        "    ylist = list()\n",
        "    for sequence in sequences:\n",
        "        encoded = to_categorical(sequence, num_classes=vocab_size)\n",
        "        ylist.append(encoded)\n",
        "    y = np.array(ylist)\n",
        "    y = y.reshape(sequences.shape[0], sequences.shape[1], vocab_size)\n",
        "    return y\n",
        " \n",
        "# Prepare target tokenizer\n",
        "tar_tokenizer = create_tokenizer(dataset[:, idx_tar])\n",
        "tar_vocab_size = len(tar_tokenizer.word_index) + 1\n",
        "tar_length = max_len(dataset[:, idx_tar])\n",
        "printmd(f'\\nTarget ({target_str}) Vocabulary Size: {tar_vocab_size}')\n",
        "printmd(f'Target ({target_str}) Max Length: {tar_length}')\n",
        "\n",
        "# Prepare source tokenizer\n",
        "src_tokenizer = create_tokenizer(dataset[:, idx_src])\n",
        "src_vocab_size = len(src_tokenizer.word_index) + 1\n",
        "src_length = max_len(dataset[:, idx_src])\n",
        "printmd(f'\\nSource ({source_str}) Vocabulary Size: {src_vocab_size}')\n",
        "printmd(f'Source ({source_str}) Max Length: {src_length}\\n')\n",
        " \n",
        "# Prepare training data\n",
        "trainX = encode_sequences(src_tokenizer, src_length, train[:, idx_src])\n",
        "trainY = encode_sequences(tar_tokenizer, tar_length, train[:, idx_tar])\n",
        "trainY = encode_output(trainY, tar_vocab_size)\n",
        "\n",
        "# Prepare test data\n",
        "testX = encode_sequences(src_tokenizer, src_length, test[:, idx_src])\n",
        "testY = encode_sequences(tar_tokenizer, tar_length, test[:, idx_tar])\n",
        "testY = encode_output(testY, tar_vocab_size)"
      ],
      "id": "received-trout",
      "execution_count": null,
      "outputs": [
        {
          "output_type": "display_data",
          "data": {
            "text/markdown": "\nTarget (English) Vocabulary Size: 2099",
            "text/plain": [
              "<IPython.core.display.Markdown object>"
            ]
          },
          "metadata": {}
        },
        {
          "output_type": "display_data",
          "data": {
            "text/markdown": "Target (English) Max Length: 5",
            "text/plain": [
              "<IPython.core.display.Markdown object>"
            ]
          },
          "metadata": {}
        },
        {
          "output_type": "display_data",
          "data": {
            "text/markdown": "\nSource (French) Vocabulary Size: 4039",
            "text/plain": [
              "<IPython.core.display.Markdown object>"
            ]
          },
          "metadata": {}
        },
        {
          "output_type": "display_data",
          "data": {
            "text/markdown": "Source (French) Max Length: 12\n",
            "text/plain": [
              "<IPython.core.display.Markdown object>"
            ]
          },
          "metadata": {}
        }
      ]
    },
    {
      "cell_type": "markdown",
      "metadata": {
        "id": "proved-fashion"
      },
      "source": [
        "# 2. Create and train the model<a class=\"anchor\" id=\"2\"></a>"
      ],
      "id": "proved-fashion"
    },
    {
      "cell_type": "code",
      "metadata": {
        "colab": {
          "base_uri": "https://localhost:8080/"
        },
        "id": "handy-mauritius",
        "outputId": "92ea2ffd-0e90-42b2-f334-03f4247e09fe"
      },
      "source": [
        "def create_model(src_vocab, tar_vocab, src_timesteps, tar_timesteps, n_units):\n",
        "    # Create the model\n",
        "    model = Sequential()\n",
        "    model.add(Embedding(src_vocab, n_units, input_length=src_timesteps, mask_zero=True))\n",
        "    model.add(LSTM(n_units))\n",
        "    model.add(RepeatVector(tar_timesteps))\n",
        "    model.add(LSTM(n_units, return_sequences=True))\n",
        "    model.add(TimeDistributed(Dense(tar_vocab, activation='softmax')))\n",
        "    return model\n",
        " \n",
        "# Create model\n",
        "model = create_model(src_vocab_size, tar_vocab_size, src_length, tar_length, 256)\n",
        "model.compile(optimizer='adam', loss='categorical_crossentropy',metrics=['accuracy'])\n",
        "\n",
        "history = model.fit(trainX, \n",
        "          trainY, \n",
        "          epochs=200, \n",
        "          batch_size=64, \n",
        "          validation_split=0.1, \n",
        "          verbose=1,\n",
        "          callbacks=[\n",
        "                        EarlyStopping(\n",
        "                        monitor='val_loss',\n",
        "                        patience=10,\n",
        "                        restore_best_weights=True\n",
        "                    )\n",
        "            ])"
      ],
      "id": "handy-mauritius",
      "execution_count": null,
      "outputs": [
        {
          "output_type": "stream",
          "text": [
            "Epoch 1/200\n",
            "127/127 [==============================] - 15s 37ms/step - loss: 4.3631 - accuracy: 0.4115 - val_loss: 3.5485 - val_accuracy: 0.4316\n",
            "Epoch 2/200\n",
            "127/127 [==============================] - 3s 23ms/step - loss: 3.3114 - accuracy: 0.4533 - val_loss: 3.3137 - val_accuracy: 0.4598\n",
            "Epoch 3/200\n",
            "127/127 [==============================] - 3s 23ms/step - loss: 3.0897 - accuracy: 0.4719 - val_loss: 3.1093 - val_accuracy: 0.4767\n",
            "Epoch 4/200\n",
            "127/127 [==============================] - 3s 22ms/step - loss: 2.9007 - accuracy: 0.4894 - val_loss: 3.0001 - val_accuracy: 0.4916\n",
            "Epoch 5/200\n",
            "127/127 [==============================] - 3s 23ms/step - loss: 2.7624 - accuracy: 0.5034 - val_loss: 2.9139 - val_accuracy: 0.5073\n",
            "Epoch 6/200\n",
            "127/127 [==============================] - 3s 23ms/step - loss: 2.6383 - accuracy: 0.5217 - val_loss: 2.8252 - val_accuracy: 0.5242\n",
            "Epoch 7/200\n",
            "127/127 [==============================] - 3s 23ms/step - loss: 2.4968 - accuracy: 0.5467 - val_loss: 2.7196 - val_accuracy: 0.5467\n",
            "Epoch 8/200\n",
            "127/127 [==============================] - 3s 23ms/step - loss: 2.3655 - accuracy: 0.5681 - val_loss: 2.6319 - val_accuracy: 0.5676\n",
            "Epoch 9/200\n",
            "127/127 [==============================] - 3s 23ms/step - loss: 2.2229 - accuracy: 0.5916 - val_loss: 2.5083 - val_accuracy: 0.5844\n",
            "Epoch 10/200\n",
            "127/127 [==============================] - 3s 22ms/step - loss: 2.0840 - accuracy: 0.6082 - val_loss: 2.4058 - val_accuracy: 0.5987\n",
            "Epoch 11/200\n",
            "127/127 [==============================] - 3s 22ms/step - loss: 1.9483 - accuracy: 0.6274 - val_loss: 2.3330 - val_accuracy: 0.6051\n",
            "Epoch 12/200\n",
            "127/127 [==============================] - 3s 22ms/step - loss: 1.8283 - accuracy: 0.6407 - val_loss: 2.2793 - val_accuracy: 0.6178\n",
            "Epoch 13/200\n",
            "127/127 [==============================] - 3s 22ms/step - loss: 1.7128 - accuracy: 0.6556 - val_loss: 2.2042 - val_accuracy: 0.6320\n",
            "Epoch 14/200\n",
            "127/127 [==============================] - 3s 22ms/step - loss: 1.6013 - accuracy: 0.6703 - val_loss: 2.1503 - val_accuracy: 0.6389\n",
            "Epoch 15/200\n",
            "127/127 [==============================] - 3s 22ms/step - loss: 1.5003 - accuracy: 0.6875 - val_loss: 2.0955 - val_accuracy: 0.6489\n",
            "Epoch 16/200\n",
            "127/127 [==============================] - 3s 22ms/step - loss: 1.3988 - accuracy: 0.7006 - val_loss: 2.0476 - val_accuracy: 0.6547\n",
            "Epoch 17/200\n",
            "127/127 [==============================] - 3s 22ms/step - loss: 1.3051 - accuracy: 0.7155 - val_loss: 2.0376 - val_accuracy: 0.6596\n",
            "Epoch 18/200\n",
            "127/127 [==============================] - 3s 22ms/step - loss: 1.2144 - accuracy: 0.7324 - val_loss: 1.9948 - val_accuracy: 0.6702\n",
            "Epoch 19/200\n",
            "127/127 [==============================] - 3s 22ms/step - loss: 1.1294 - accuracy: 0.7470 - val_loss: 1.9595 - val_accuracy: 0.6791\n",
            "Epoch 20/200\n",
            "127/127 [==============================] - 3s 22ms/step - loss: 1.0441 - accuracy: 0.7644 - val_loss: 1.9204 - val_accuracy: 0.6816\n",
            "Epoch 21/200\n",
            "127/127 [==============================] - 3s 22ms/step - loss: 0.9683 - accuracy: 0.7792 - val_loss: 1.8978 - val_accuracy: 0.6876\n",
            "Epoch 22/200\n",
            "127/127 [==============================] - 3s 22ms/step - loss: 0.8955 - accuracy: 0.7953 - val_loss: 1.8787 - val_accuracy: 0.6931\n",
            "Epoch 23/200\n",
            "127/127 [==============================] - 3s 22ms/step - loss: 0.8254 - accuracy: 0.8108 - val_loss: 1.8578 - val_accuracy: 0.6987\n",
            "Epoch 24/200\n",
            "127/127 [==============================] - 3s 22ms/step - loss: 0.7552 - accuracy: 0.8280 - val_loss: 1.8563 - val_accuracy: 0.7042\n",
            "Epoch 25/200\n",
            "127/127 [==============================] - 3s 22ms/step - loss: 0.6946 - accuracy: 0.8422 - val_loss: 1.8344 - val_accuracy: 0.7089\n",
            "Epoch 26/200\n",
            "127/127 [==============================] - 3s 21ms/step - loss: 0.6362 - accuracy: 0.8559 - val_loss: 1.8288 - val_accuracy: 0.7156\n",
            "Epoch 27/200\n",
            "127/127 [==============================] - 3s 22ms/step - loss: 0.5824 - accuracy: 0.8696 - val_loss: 1.8077 - val_accuracy: 0.7182\n",
            "Epoch 28/200\n",
            "127/127 [==============================] - 3s 22ms/step - loss: 0.5310 - accuracy: 0.8828 - val_loss: 1.8033 - val_accuracy: 0.7171\n",
            "Epoch 29/200\n",
            "127/127 [==============================] - 3s 22ms/step - loss: 0.4833 - accuracy: 0.8934 - val_loss: 1.8029 - val_accuracy: 0.7218\n",
            "Epoch 30/200\n",
            "127/127 [==============================] - 3s 22ms/step - loss: 0.4439 - accuracy: 0.9042 - val_loss: 1.7800 - val_accuracy: 0.7267\n",
            "Epoch 31/200\n",
            "127/127 [==============================] - 3s 22ms/step - loss: 0.4041 - accuracy: 0.9123 - val_loss: 1.7922 - val_accuracy: 0.7284\n",
            "Epoch 32/200\n",
            "127/127 [==============================] - 3s 22ms/step - loss: 0.3696 - accuracy: 0.9212 - val_loss: 1.7718 - val_accuracy: 0.7313\n",
            "Epoch 33/200\n",
            "127/127 [==============================] - 3s 22ms/step - loss: 0.3372 - accuracy: 0.9277 - val_loss: 1.7825 - val_accuracy: 0.7371\n",
            "Epoch 34/200\n",
            "127/127 [==============================] - 3s 22ms/step - loss: 0.3071 - accuracy: 0.9341 - val_loss: 1.7704 - val_accuracy: 0.7356\n",
            "Epoch 35/200\n",
            "127/127 [==============================] - 3s 22ms/step - loss: 0.2824 - accuracy: 0.9393 - val_loss: 1.7756 - val_accuracy: 0.7373\n",
            "Epoch 36/200\n",
            "127/127 [==============================] - 3s 22ms/step - loss: 0.2558 - accuracy: 0.9444 - val_loss: 1.7904 - val_accuracy: 0.7409\n",
            "Epoch 37/200\n",
            "127/127 [==============================] - 3s 22ms/step - loss: 0.2376 - accuracy: 0.9468 - val_loss: 1.7844 - val_accuracy: 0.7389\n",
            "Epoch 38/200\n",
            "127/127 [==============================] - 3s 22ms/step - loss: 0.2181 - accuracy: 0.9509 - val_loss: 1.7943 - val_accuracy: 0.7433\n",
            "Epoch 39/200\n",
            "127/127 [==============================] - 3s 22ms/step - loss: 0.2005 - accuracy: 0.9536 - val_loss: 1.7756 - val_accuracy: 0.7464\n",
            "Epoch 40/200\n",
            "127/127 [==============================] - 3s 22ms/step - loss: 0.1866 - accuracy: 0.9567 - val_loss: 1.7794 - val_accuracy: 0.7464\n",
            "Epoch 41/200\n",
            "127/127 [==============================] - 3s 22ms/step - loss: 0.1734 - accuracy: 0.9576 - val_loss: 1.7864 - val_accuracy: 0.7520\n",
            "Epoch 42/200\n",
            "127/127 [==============================] - 3s 22ms/step - loss: 0.1648 - accuracy: 0.9585 - val_loss: 1.7963 - val_accuracy: 0.7462\n",
            "Epoch 43/200\n",
            "127/127 [==============================] - 3s 22ms/step - loss: 0.1523 - accuracy: 0.9609 - val_loss: 1.8071 - val_accuracy: 0.7449\n",
            "Epoch 44/200\n",
            "127/127 [==============================] - 3s 22ms/step - loss: 0.1430 - accuracy: 0.9614 - val_loss: 1.8081 - val_accuracy: 0.7478\n"
          ],
          "name": "stdout"
        }
      ]
    },
    {
      "cell_type": "code",
      "metadata": {
        "id": "bxh5eShRk8gm"
      },
      "source": [
        "model.save('mymodel.h5')"
      ],
      "id": "bxh5eShRk8gm",
      "execution_count": null,
      "outputs": []
    },
    {
      "cell_type": "code",
      "metadata": {
        "colab": {
          "base_uri": "https://localhost:8080/",
          "height": 281
        },
        "id": "smoking-measure",
        "outputId": "85241e3d-444e-487d-a4c1-d446386068ee"
      },
      "source": [
        "pd.DataFrame(history.history).plot()\n",
        "plt.title(\"Loss\")\n",
        "plt.show()"
      ],
      "id": "smoking-measure",
      "execution_count": null,
      "outputs": [
        {
          "output_type": "display_data",
          "data": {
            "image/png": "[encoded data removed]",
            "text/plain": [
              "<Figure size 432x288 with 1 Axes>"
            ]
          },
          "metadata": {
            "needs_background": "light"
          }
        }
      ]
    },
    {
      "cell_type": "markdown",
      "metadata": {
        "id": "injured-biology"
      },
      "source": [
        "# 3. Result on the test set<a class=\"anchor\" id=\"3\"></a>"
      ],
      "id": "injured-biology"
    },
    {
      "cell_type": "code",
      "metadata": {
        "colab": {
          "base_uri": "https://localhost:8080/"
        },
        "id": "phantom-hudson",
        "outputId": "2af926e4-67ce-4aa0-a7f1-27d91dfe1a14"
      },
      "source": [
        "def word_for_id(integer, tokenizer):\n",
        "    # map an integer to a word\n",
        "    for word, index in tokenizer.word_index.items():\n",
        "        if index == integer:\n",
        "            return word\n",
        "    return None\n",
        " \n",
        "def predict_seq(model, tokenizer, source):\n",
        "    # generate target from a source sequence\n",
        "    prediction = model.predict(source, verbose=0)[0]\n",
        "    integers = [np.argmax(vector) for vector in prediction]\n",
        "    target = list()\n",
        "    for i in integers:\n",
        "        word = word_for_id(i, tokenizer)\n",
        "        if word is None:\n",
        "            break\n",
        "        target.append(word)\n",
        "    return ' '.join(target)\n",
        "\n",
        "def compare_prediction(model, tokenizer, sources, raw_dataset, limit=20):\n",
        "    # evaluate a model\n",
        "    actual, predicted = [], []\n",
        "    src = f'{source_str.upper()} (SOURCE)'\n",
        "    tgt = f'{target_str.upper()} (TARGET)'\n",
        "    pred = f'AUTOMATIC TRANSLATION IN {target_str.upper()}'\n",
        "    print(f'{src:30} {tgt:25} {pred}\\n')\n",
        "    \n",
        "    for i, source in enumerate(sources): # translate encoded source text\n",
        "        source = source.reshape((1, source.shape[0]))\n",
        "        translation = predict_seq(model, tar_tokenizer, source)\n",
        "        raw_target, raw_src = raw_dataset[i]\n",
        "        print(f'{raw_src:30} {raw_target:25} {translation}')\n",
        "        if i >= limit: # Display some of the result\n",
        "            break\n",
        " \n",
        "# test on some training sequences\n",
        "print('### Result on the Training Set ###')\n",
        "compare_prediction(model, tar_tokenizer, trainX, train)\n",
        "\n",
        "# test on some test sequences\n",
        "print('\\n\\n### Result on the Test Set ###')\n",
        "compare_prediction(model, tar_tokenizer, testX, test)"
      ],
      "id": "phantom-hudson",
      "execution_count": null,
      "outputs": [
        {
          "output_type": "stream",
          "text": [
            "### Result on the Training Set ###\n",
            "FRENCH (SOURCE)                ENGLISH (TARGET)          AUTOMATIC TRANSLATION IN ENGLISH\n",
            "\n",
            "nous en savons assez           we know enough            we know enough\n",
            "garde ton sang froid           stay calm                 stay calm\n",
            "je ne pleurerai pas            i won t cry               i won t cry\n",
            "je ne suis pas contente        i m not happy             i m not happy\n",
            "moi je veux ça                 i want that               i want that\n",
            "j étais tellement heureuse     i was so happy            i was so happy\n",
            "j aime le printemps            i like spring             i like spring\n",
            "c est mon garçon               that s my boy             that s my boy\n",
            "mille mercis                   many thanks               thanks a lot\n",
            "quelle horreur                 how horrible              how horrible\n",
            "soyez satisfaites              be content                be content\n",
            "toi décide                     you decide                you decide\n",
            "je m en suis remis             i recovered               i recovered\n",
            "ce sont les affaires           it s business             it s business\n",
            "je dois m en aller             i need to go              i must to go\n",
            "sommes nous prêtes             are we ready              are we ready\n",
            "arrêtez de crier               stop shouting             stop shouting\n",
            "je lis souvent                 i often read              i often work\n",
            "les plantes croissent          plants grow               plants grow\n",
            "il m a fallu le faire          i had to do it            i had to do it\n",
            "nous éclatâmes de rire         we broke up               we broke up\n",
            "\n",
            "\n",
            "### Result on the Test Set ###\n",
            "FRENCH (SOURCE)                ENGLISH (TARGET)          AUTOMATIC TRANSLATION IN ENGLISH\n",
            "\n",
            "ils ont abandonné              they gave up              they gave up\n",
            "rappelle moi                   call me back              marry me\n",
            "je veux essayer                i want to try             i want to wait\n",
            "ça fonctionne bien             it works well             that works well\n",
            "grimpe dans la camionnette     get in the van            get in the van\n",
            "je suis mince                  i m thin                  i m dying\n",
            "elle semble riche              she seems rich            she s rich\n",
            "ça me gave                     this annoys me            it may wrong\n",
            "c était long                   it was long               you stinks\n",
            "c était un mensonge            it was a lie              that was a lie\n",
            "conduis toi en homme           act like a man            do on room\n",
            "laissez moi m en occuper       leave it to me            let me me\n",
            "puis je manger ceci            may i eat this            can i eat this\n",
            "devine                         make a guess              bring a\n",
            "je ne suis pas jolie           i m not pretty            i m not alone\n",
            "demande à quiconque            ask anyone                watch home\n",
            "venez nous rejoindre           come join us              come us\n",
            "vous ennuyez vous              are you bored             you you love\n",
            "je ne viendrai pas             i won t come              i can t it\n",
            "c est un voleur                he is a thief             it s a curse\n",
            "bien joué                      well done                 good job\n"
          ],
          "name": "stdout"
        }
      ]
    },
    {
      "cell_type": "markdown",
      "metadata": {
        "id": "western-capitol"
      },
      "source": [
        "# 4. Prediction evaluation with BLEU <a class=\"anchor\" id=\"4\"></a>\n",
        "\n",
        "BLEU (bilingual evaluation understudy) is an algorithm for evaluating the quality of text which has been machine-translated from one natural language to another. Quality is considered to be the correspondence between a machine's output and that of a human: \"the closer a machine translation is to a professional human translation, the better it is\" – this is the central idea behind BLEU. BLEU was one of the first metrics to claim a high correlation with human judgements of quality, and remains one of the most popular automated and inexpensive metrics.\n",
        "\n",
        "Scores are calculated for individual translated segments—generally sentences—by comparing them with a set of good quality reference translations. Those scores are then averaged over the whole corpus to reach an estimate of the translation's overall quality. Intelligibility or grammatical correctness are not taken into account.\n",
        "\n",
        "BLEU's output is always a number between 0 and 1. This value indicates how similar the candidate text is to the reference texts, with values closer to 1 representing more similar texts. Few human translations will attain a score of 1, since this would indicate that the candidate is identical to one of the reference translations. For this reason, it is not necessary to attain a score of 1. Because there are more opportunities to match, adding additional reference translations will increase the BLEU score.\n",
        "\n",
        "\n",
        "## Algorithm\n",
        "\n",
        "BLEU uses a modified form of precision to compare a candidate translation against multiple reference translations. The metric modifies simple precision since machine translation systems have been known to generate more words than are in a reference text. This is illustrated in the following example from Papineni et al. (2002)\n",
        "\n",
        "![example bleu](https://i.imgur.com/mrdpwun.png)\n",
        "\n",
        "Of the seven words in the candidate translation, all of them appear in the reference translations. Thus the candidate text is given a unigram precision of P, where *m* is number of words from the candidate that are found in the reference, and *wt* is the total number of words in the candidate. This is a perfect score, despite the fact that the candidate translation above retains little of the content of either of the references.\n",
        "\n",
        "The modification that BLEU makes is fairly straightforward. For each word in the candidate translation, the algorithm takes its maximum total count, *m_max*, in any of the reference translations. In the example above, the word \"the\" appears twice in reference 1, and once in reference 2. Thus *m_max* = 2.\n",
        "\n",
        "For the candidate translation, the count *mw* of each word is clipped to a maximum of *m_max* for that word. In this case, \"the\" has *m_w* = 7 and *m_max*=2, thus *m_w* is clipped to 2. These clipped counts *m_w* are then summed over all distinct words in the candidate. This sum is then divided by the total number of unigrams in the candidate translation. In the above example, the modified unigram precision score would be: P = 1 / 7\n",
        "\n",
        "In practice, however, using individual words as the unit of comparison is not optimal. Instead, BLEU computes the same modified precision metric using n-grams. The length which has the \"highest correlation with monolingual human judgements\" was found to be four. The unigram scores are found to account for the adequacy of the translation, how much information is retained. The longer n-gram scores account for the fluency of the translation, or to what extent it reads like \"good English\". ([source](https://en.wikipedia.org/wiki/BLEU))\n",
        "\n",
        "![bleu score 2](https://i.imgur.com/tNYaD64.png)"
      ],
      "id": "western-capitol"
    },
    {
      "cell_type": "code",
      "metadata": {
        "id": "unnecessary-dylan"
      },
      "source": [
        "# It takes long to compute the BLEU Score\n",
        "\n",
        "def bleu_score(model, tokenizer, sources, raw_dataset):\n",
        "    # Get the bleu score of a model\n",
        "    actual, predicted = [], []\n",
        "    for i, source in enumerate(sources):\n",
        "        # translate encoded source text\n",
        "        source = source.reshape((1, source.shape[0]))\n",
        "        translation = predict_seq(model, tar_tokenizer, source)\n",
        "        raw_target, raw_src = raw_dataset[i]\n",
        "        actual.append([raw_target.split()])\n",
        "        predicted.append(translation.split())\n",
        "        \n",
        "    bleu_dic = {}\n",
        "    bleu_dic['1-grams'] = corpus_bleu(actual, predicted, weights=(1.0, 0, 0, 0))\n",
        "    bleu_dic['1-2-grams'] = corpus_bleu(actual, predicted, weights=(0.5, 0.5, 0, 0))\n",
        "    bleu_dic['1-3-grams'] = corpus_bleu(actual, predicted, weights=(0.3, 0.3, 0.3, 0))\n",
        "    bleu_dic['1-4-grams'] = corpus_bleu(actual, predicted, weights=(0.25, 0.25, 0.25, 0.25))\n",
        "\n",
        "    return bleu_dic\n",
        "\n",
        "# Compute the BLEU Score\n",
        "bleu_train = bleu_score(model, tar_tokenizer, trainX, train)\n",
        "bleu_test = bleu_score(model, tar_tokenizer, testX, test)"
      ],
      "id": "unnecessary-dylan",
      "execution_count": null,
      "outputs": []
    },
    {
      "cell_type": "code",
      "metadata": {
        "colab": {
          "base_uri": "https://localhost:8080/",
          "height": 281
        },
        "id": "suitable-collector",
        "outputId": "09b21da5-f111-4389-fa46-1ec97c461cdd"
      },
      "source": [
        "plt.bar(x = bleu_train.keys(), height = bleu_train.values())\n",
        "plt.title(\"BLEU Score with the training set\")\n",
        "plt.ylim((0,1))\n",
        "plt.show()"
      ],
      "id": "suitable-collector",
      "execution_count": null,
      "outputs": [
        {
          "output_type": "display_data",
          "data": {
            "image/png": "[encoded data removed]",
            "text/plain": [
              "<Figure size 432x288 with 1 Axes>"
            ]
          },
          "metadata": {
            "needs_background": "light"
          }
        }
      ]
    },
    {
      "cell_type": "code",
      "metadata": {
        "colab": {
          "base_uri": "https://localhost:8080/",
          "height": 281
        },
        "id": "hearing-ranch",
        "outputId": "35246aaf-11e0-4670-d182-5bd78eea6a08"
      },
      "source": [
        "plt.bar(x = bleu_test.keys(), height = bleu_test.values())\n",
        "plt.title(\"BLEU Score with the test set\")\n",
        "plt.ylim((0,1))\n",
        "plt.show()"
      ],
      "id": "hearing-ranch",
      "execution_count": null,
      "outputs": [
        {
          "output_type": "display_data",
          "data": {
            "image/png": "[encoded data removed]",
            "text/plain": [
              "<Figure size 432x288 with 1 Axes>"
            ]
          },
          "metadata": {
            "needs_background": "light"
          }
        }
      ]
    }
  ]
}